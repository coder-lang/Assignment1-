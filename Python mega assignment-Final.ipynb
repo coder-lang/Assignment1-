{
 "cells": [
  {
   "cell_type": "code",
   "execution_count": null,
   "id": "4a1f7e97",
   "metadata": {},
   "outputs": [],
   "source": [
    "Q1. Python is considered a general-purpose and high-level programming language because it can be used for a wide range of applications, from web development to data analysis and machine learning. It's high-level because it abstracts many low-level details, making it easy to read and write, even for beginners.\n",
    "\n",
    "Q2. Python is called a dynamically typed language because you don't need to declare the data type of a variable explicitly. The type of a variable is determined at runtime based on the value it holds.\n",
    "\n",
    "Q3. Pros of Python:\n",
    "\n",
    "Readable and expressive syntax.\n",
    "Extensive standard library.\n",
    "Cross-platform compatibility.\n",
    "Strong support for integration and third-party libraries.\n",
    "Versatile, suitable for various domains.\n",
    "\n",
    "Cons of Python:\n",
    "\n",
    "Slower execution speed compared to low-level languages.\n",
    "Global Interpreter Lock (GIL) can limit multi-threading performance.\n",
    "Not ideal for resource-intensive tasks.\n",
    "Q4. Python can be used in various domains, including web development, data science, artificial intelligence, machine learning, scientific computing, automation, and more.\n",
    "\n",
    "Q5. Variables in Python are used to store data. You can declare them by assigning a value to a name like this: variable_name = value.\n",
    "\n",
    "Q6. You can take input from the user in Python using the input() function. For example:\n",
    "\n",
    "\n",
    "user_input = input(\"Enter something: \")\n",
    "\n",
    "Q7. The default datatype of the value taken as input using input() function is a string (str).\n",
    "\n",
    "Q8. Type casting in Python involves converting one data type into another. For example, you can convert a string to an integer using int(), or vice versa.\n",
    "\n",
    "Q9. Yes, you can take more than one input from the user using a single input() function by separating the inputs with a space and then splitting the input string. For example:\n",
    "\n",
    "values = input(\"Enter two values separated by space: \").split()\n",
    "\n",
    "Q10. Keywords are reserved words in Python that have predefined meanings and cannot be used as variable names. Examples include if, else, while, and for.\n",
    "\n",
    "Q11. No, you cannot use keywords as variable names in Python because they have predefined meanings and are reserved for specific language constructs.\n",
    "\n",
    "Q12. Indentation in Python refers to the use of whitespace (typically spaces or tabs) at the beginning of a line to indicate the block or scope of code. It is used for structuring code and defining the hierarchy of control flow in Python.\n",
    "\n",
    "Q13. You can display output in Python using the print() function. For example:\n",
    "\n",
    "print(\"Hello, World!\")\n",
    "\n",
    "Q14. Operators in Python are symbols or special words used to perform operations on variables and values. Examples include arithmetic operators (+, -, *, /), comparison operators (==, !=, <, >), and logical operators (and, or, not).\n",
    "\n",
    "Q15. In Python, the / operator performs floating-point division, while the // operator performs integer (floor) division. For example, 5 / 2 is 2.5, and 5 // 2 is 2."
   ]
  },
  {
   "cell_type": "code",
   "execution_count": 6,
   "id": "23adddaa",
   "metadata": {},
   "outputs": [
    {
     "name": "stdout",
     "output_type": "stream",
     "text": [
      "iNeuroniNeuroniNeuroniNeuron\n"
     ]
    }
   ],
   "source": [
    "#Q16-Q16. Write a code that gives following as an output.\n",
    "#iNeuroniNeuroniNeuroniNeuron\n",
    "\n",
    "s = 'iNeuron'\n",
    "y = s*4\n",
    "print(y)\n"
   ]
  },
  {
   "cell_type": "code",
   "execution_count": 13,
   "id": "51574be8",
   "metadata": {},
   "outputs": [
    {
     "name": "stdout",
     "output_type": "stream",
     "text": [
      "Input any number: 17\n",
      "17 is odd.\n"
     ]
    }
   ],
   "source": [
    "#Q17. Write a code to take a number as an input from the user and check if the number is odd or even.\n",
    "\n",
    "x = int(input(\"Input any number: \"))\n",
    "if x%2 == 0:\n",
    "    print(f\"{x} is even.\")\n",
    "else:\n",
    "    print(f\"{x} is odd.\")"
   ]
  },
  {
   "cell_type": "code",
   "execution_count": null,
   "id": "056c07a0",
   "metadata": {},
   "outputs": [],
   "source": [
    "Q18. Boolean operators are operators that are used to perform logical operations on boolean values (True or False). \n",
    "The three primary boolean operators in Python are:\n",
    "\n",
    "and: Returns True if both operands are True.\n",
    "or: Returns True if at least one operand is True.\n",
    "not: Returns the opposite boolean value of the operand."
   ]
  },
  {
   "cell_type": "code",
   "execution_count": null,
   "id": "be44052c",
   "metadata": {},
   "outputs": [],
   "source": [
    "Q19. What will the output of the following?\n",
    "1 or 0 --> 1\n",
    "\n",
    "0 and 0 --> 0\n",
    "\n",
    "True and False and True --> False\n",
    "\n",
    "1 or 0 or 0 --> 1"
   ]
  },
  {
   "cell_type": "code",
   "execution_count": null,
   "id": "4a6e15cd",
   "metadata": {},
   "outputs": [],
   "source": [
    "Q20. Conditional statements in Python are used to control the flow of a program based on certain conditions. They allow you to execute different blocks of code depending on whether a specified condition is true or false. Python provides several types of conditional statements, with the most common being the if, elif, and else statements.\n",
    "\n",
    "Q21. The if, elif (short for \"else if\"), and else keywords are used in conditional statements to control the execution of code based on specific conditions:\n",
    "\n",
    "if: It starts a conditional block and is used to test a single condition. If the condition is true, the code within the if block is executed. If the condition is false, the code within the if block is skipped.\n",
    "\n",
    "elif: It stands for \"else if\" and is used to test additional conditions if the preceding if condition is false. You can have multiple elif blocks to test multiple conditions sequentially. If an elif condition is true, the code within that elif block is executed, and subsequent elif and else blocks are skipped.\n",
    "\n",
    "else: It is used as a catch-all condition. If none of the preceding conditions (if or elif) is true, the code within the else block is executed. It's optional and can appear only once at the end of a conditional statement.\n"
   ]
  },
  {
   "cell_type": "code",
   "execution_count": 17,
   "id": "b9d37c9d",
   "metadata": {},
   "outputs": [
    {
     "name": "stdout",
     "output_type": "stream",
     "text": [
      "Input the Age: 20\n",
      "I can vote\n"
     ]
    }
   ],
   "source": [
    "#Q22. Write a code to take the age of person as an input and if age >= 18 display \"I can vote\". If age is < 18 display \"I can't vote\".\n",
    "age = int(input(\"Input the Age: \"))\n",
    "if age>=18:\n",
    "    print(\"I can vote\")\n",
    "else:\n",
    "    print(\"I can't vote\")\n"
   ]
  },
  {
   "cell_type": "code",
   "execution_count": 25,
   "id": "859dbea0",
   "metadata": {},
   "outputs": [
    {
     "name": "stdout",
     "output_type": "stream",
     "text": [
      "sum of even numbers  =  392\n"
     ]
    }
   ],
   "source": [
    "#Q23. Write a code that displays the sum of all the even numbers from the given list.\n",
    "numbers = [12, 75, 150, 180, 145, 525, 50]\n",
    "s = 0\n",
    "for i in numbers:\n",
    "    if i%2==0:\n",
    "        s =s+i\n",
    "print(\"sum of even numbers  = \", s)\n",
    "    "
   ]
  },
  {
   "cell_type": "code",
   "execution_count": 31,
   "id": "d1adf235",
   "metadata": {},
   "outputs": [
    {
     "name": "stdout",
     "output_type": "stream",
     "text": [
      "Enter the first number: 4\n",
      "Enter the second number: 5\n",
      "Enter the third number: 6\n",
      "Greatest number is:  6.0\n"
     ]
    }
   ],
   "source": [
    "#Q24. Write a code to take 3 numbers as an input from the user and display the greatest no as output.\n",
    "\n",
    "num1,num2,num3 = float(input(\"Enter the first number: \")), float(input(\"Enter the second number: \")), float(input(\"Enter the third number: \"))\n",
    "x = max(num1,num2,num3)\n",
    "print(\"Greatest number is: \", x)"
   ]
  },
  {
   "cell_type": "code",
   "execution_count": null,
   "id": "3005271b",
   "metadata": {},
   "outputs": [],
   "source": [
    "# Q25. Write a program to display only those numbers from a list that satisfy the following conditions\n",
    "\n",
    "The number must be divisible by five\n",
    "\n",
    "If the number is greater than 150, then skip it and move to the next number\n",
    "\n",
    "If the number is greater than 500, then stop the loop"
   ]
  },
  {
   "cell_type": "code",
   "execution_count": 44,
   "id": "0b808a6a",
   "metadata": {},
   "outputs": [
    {
     "name": "stdout",
     "output_type": "stream",
     "text": [
      "75\n",
      "150\n",
      "145\n"
     ]
    }
   ],
   "source": [
    "numbers = [12, 75, 150, 180, 145, 525, 50]\n",
    "\n",
    "for i in numbers:\n",
    "    if i > 500:\n",
    "        break \n",
    "    if i % 5 == 0:\n",
    "        if i > 150:\n",
    "            continue\n",
    "        print(i)\n"
   ]
  },
  {
   "cell_type": "code",
   "execution_count": null,
   "id": "331049c3",
   "metadata": {},
   "outputs": [],
   "source": [
    "Q26. A string is a sequence of characters in Python. It can contain letters, numbers, symbols, or spaces. You can declare a string in Python by enclosing a sequence of characters within single (' '), double (\" \"), or triple (''' 'or \"\"\" ') quotation marks.\n",
    "\n",
    "Q27. We can access individual characters within a string in Python using indexing. Each character in a string is assigned an index, starting from 0 for the first character. To access a character, use square brackets [] with the index inside them. For example, to access the third character of a string variable text, you can use text[2] because indexing is 0-based in Python."
   ]
  },
  {
   "cell_type": "code",
   "execution_count": 46,
   "id": "ca3dae46",
   "metadata": {},
   "outputs": [
    {
     "name": "stdout",
     "output_type": "stream",
     "text": [
      "iNeuron\n"
     ]
    }
   ],
   "source": [
    "#Q28. Write a code to get the desired output of the following\n",
    "string = \"Big Data iNeuron\"\n",
    "#desired_output = \"iNeuron\"\n",
    "x = string.split()\n",
    "print(x[-1])\n"
   ]
  },
  {
   "cell_type": "code",
   "execution_count": 51,
   "id": "d354d08a",
   "metadata": {},
   "outputs": [
    {
     "data": {
      "text/plain": [
       "'norueNi'"
      ]
     },
     "execution_count": 51,
     "metadata": {},
     "output_type": "execute_result"
    }
   ],
   "source": [
    "#Q29. Write a code to get the desired output of the following\n",
    "\n",
    "string = \"Big Data iNeuron\"\n",
    "#desired_output = \"norueNi\"\n",
    "\n",
    "x= string.split()[-1]\n",
    "print(x[::-1])\n"
   ]
  },
  {
   "cell_type": "code",
   "execution_count": 53,
   "id": "203ca56a",
   "metadata": {},
   "outputs": [
    {
     "data": {
      "text/plain": [
       "'norueNi ataD giB'"
      ]
     },
     "execution_count": 53,
     "metadata": {},
     "output_type": "execute_result"
    }
   ],
   "source": [
    "#Q30. Resverse the string given in the above question.\n",
    "string = \"Big Data iNeuron\"\n",
    "\n",
    "x = string[::-1]\n",
    "x"
   ]
  },
  {
   "cell_type": "code",
   "execution_count": 56,
   "id": "c5fc6cb0",
   "metadata": {},
   "outputs": [],
   "source": [
    "# Q31. How can you delete entire string at once?\n",
    "\n",
    "x = \"ineuron\"\n",
    "#assign empty string to delet the string\n",
    "x = \"\"\n",
    "#second method\n",
    "del x"
   ]
  },
  {
   "cell_type": "code",
   "execution_count": null,
   "id": "f1c7ffbe",
   "metadata": {},
   "outputs": [],
   "source": [
    "Q32. What is escape sequence?\n",
    "An escape sequence is a combination of characters that represents a special character or control code within a string. It typically starts with a backslash () followed by one or more characters and is used to encode characters that are difficult or impossible to represent directly in a string. Common escape sequences include \"\\n\" for a newline, \"\\t\" for a tab, \"\\\" for a literal backslash, and \"'\" or \"\"\" to include single or double quotes within a string. Escape sequences are commonly used to insert non-printable characters or characters with special meanings into strings in programming languages like Python and many others."
   ]
  },
  {
   "cell_type": "code",
   "execution_count": 63,
   "id": "8829bf1c",
   "metadata": {},
   "outputs": [
    {
     "name": "stdout",
     "output_type": "stream",
     "text": [
      "iNeuron's Big Data Course\n",
      "iNeuron's Big Data Course\n"
     ]
    }
   ],
   "source": [
    "# Q33. How can you print the below string?\n",
    "\n",
    "#     'iNeuron's Big Data Course'\n",
    "\n",
    "print('iNeuron\\'s Big Data Course')\n",
    "print(\"iNeuron's Big Data Course\")\n"
   ]
  },
  {
   "cell_type": "code",
   "execution_count": null,
   "id": "af9de471",
   "metadata": {},
   "outputs": [],
   "source": [
    "Q34. A list in Python is an ordered collection of elements, which can be of any data type. Lists are mutable, meaning you can add, remove, or modify elements within them.\n",
    "\n",
    "Q35. You can create a list in Python by enclosing a comma-separated sequence of elements within square brackets, like this: my_list = [element1, element2, element3].\n",
    "\n",
    "Q36. You can access elements in a list by using their index. Lists are zero-indexed, so the first element has an index of 0, the second element has an index of 1, and so on. You can access elements using square brackets and the index, like this: my_list[index]."
   ]
  },
  {
   "cell_type": "code",
   "execution_count": 64,
   "id": "4f9c8b73",
   "metadata": {},
   "outputs": [
    {
     "data": {
      "text/plain": [
       "'iNeuron'"
      ]
     },
     "execution_count": 64,
     "metadata": {},
     "output_type": "execute_result"
    }
   ],
   "source": [
    "# Q37. Write a code to access the word \"iNeuron\" from the given list.\n",
    "lst = [1,2,3,\"Hi\",[45,54, \"iNeuron\"], \"Big Data\"]\n",
    "\n",
    "lst[4][-1]"
   ]
  },
  {
   "cell_type": "code",
   "execution_count": 68,
   "id": "a9eca7f2",
   "metadata": {},
   "outputs": [
    {
     "name": "stdout",
     "output_type": "stream",
     "text": [
      "Enter a list of values (comma-separated): 10,30,60,\"ankur\", 7\n",
      "Length of the list: 5\n"
     ]
    }
   ],
   "source": [
    "# Q38. Take a list as an input from the user and find the length of the list.\n",
    "user_input = input(\"Enter a list of values (comma-separated): \")\n",
    "user_list = user_input.split(',')\n",
    "list_length = len(user_list)\n",
    "print(\"Length of the list:\", list_length)"
   ]
  },
  {
   "cell_type": "code",
   "execution_count": 70,
   "id": "2476271c",
   "metadata": {},
   "outputs": [
    {
     "data": {
      "text/plain": [
       "['Welcome', 'to', 'Big', 'Data', 'course']"
      ]
     },
     "execution_count": 70,
     "metadata": {},
     "output_type": "execute_result"
    }
   ],
   "source": [
    "# Q39. Add the word \"Big\" in the 3rd index of the given list.\n",
    "lst = [\"Welcome\", \"to\", \"Data\", \"course\"]\n",
    "lst.insert(2, \"Big\")\n",
    "lst"
   ]
  },
  {
   "cell_type": "code",
   "execution_count": null,
   "id": "1036478c",
   "metadata": {},
   "outputs": [],
   "source": [
    "Q40. What is a tuple? How is it different from a list?\n",
    "\n",
    "A tuple is an ordered collection of elements, similar to a list. However, the key difference is that tuples are immutable, meaning their elements cannot be changed, added, or removed once the tuple is created. In contrast, lists are mutable, allowing you to modify their contents. Tuples are defined using parentheses () instead of square brackets [] like lists.\n",
    "Q41. How can you create a tuple in Python?\n",
    "\n",
    "You can create a tuple in Python by enclosing a comma-separated sequence of elements within parentheses. For example: my_tuple = (1, 2, 3, 'Hello').\n",
    "Q42. Create a tuple and try to add your name to the tuple. Are you able to do it? Support your answer with a reason.\n",
    "\n",
    "No, you cannot add elements to a tuple after it is created. Tuples are immutable, so their elements cannot be modified or appended. Attempting to add an element to a tuple will result in a TypeError.\n"
   ]
  },
  {
   "cell_type": "code",
   "execution_count": null,
   "id": "d9959252",
   "metadata": {},
   "outputs": [],
   "source": [
    "Q43. Can two tuples be appended? If yes, write code for it. If not, why?\n",
    "\n",
    "No, two tuples cannot be appended together directly. Unlike lists, tuples do not have methods like append(). To combine two tuples, you can create a new tuple by concatenating them. Here's an example:\n",
    "tuple1 = (1, 2, 3)\n",
    "tuple2 = (4, 5, 6)\n",
    "combined_tuple = tuple1 + tuple2\n",
    "\n"
   ]
  },
  {
   "cell_type": "code",
   "execution_count": 71,
   "id": "74b2f600",
   "metadata": {},
   "outputs": [
    {
     "name": "stdout",
     "output_type": "stream",
     "text": [
      "Count of elements in the tuple: 4\n"
     ]
    }
   ],
   "source": [
    "# Q44. Take a tuple as input and print the count of elements in it.\n",
    "\n",
    "# To print the count of elements in a tuple, you can use the len() function. For example:\n",
    "    \n",
    "my_tuple = (1, 2, 3, 'Hello')\n",
    "count = len(my_tuple)\n",
    "print(\"Count of elements in the tuple:\", count)\n"
   ]
  },
  {
   "cell_type": "code",
   "execution_count": null,
   "id": "7566cf9f",
   "metadata": {},
   "outputs": [],
   "source": [
    "Q45. What are sets in Python?\n",
    "\n",
    "A set in Python is an unordered collection of unique elements. Sets are used for tasks that involve storing and performing operations on distinct values. Sets do not allow duplicate elements, and they are defined using curly braces {} or the set() constructor."
   ]
  },
  {
   "cell_type": "code",
   "execution_count": null,
   "id": "8ed7e422",
   "metadata": {},
   "outputs": [],
   "source": [
    "# Q46. How can you create a set?\n",
    "\n",
    "# You can create a set in Python by enclosing a comma-separated sequence of elements within curly braces {} or by using the set() constructor. For example:\n",
    "\n",
    "\n",
    "my_set = {1, 2, 3}\n",
    "another_set = set([4, 5, 6])\n"
   ]
  },
  {
   "cell_type": "code",
   "execution_count": null,
   "id": "eb95489f",
   "metadata": {},
   "outputs": [],
   "source": [
    "Q48. Try to add multiple values using the add() function.\n",
    "\n",
    "The add() function in sets is used to add a single element to the set. To add multiple elements, you can use the update() function or provide a list or another iterable as an argument to update().\n",
    "Q49. How is update() different from add()?\n",
    "\n",
    "The add() method is used to add a single element to a set. On the other hand, the update() method is used to add multiple elements to a set. You can pass an iterable (e.g., a list or another set) to update() to add multiple elements at once.\n",
    "Q50. What is clear() in sets?\n",
    "\n",
    "The clear() method in sets is used to remove all elements from the set, leaving it empty. After calling clear(), the set still exists but contains no elements.\n",
    "Q51. What is a frozen set?\n",
    "\n",
    "A frozen set in Python is an immutable version of a set. Once a frozen set is created, its elements cannot be modified, added, or removed. Frozen sets are defined using the frozenset() constructor.\n",
    "Q52. How is a frozen set different from a set?\n",
    "\n",
    "The main difference between a set and a frozen set is that sets are mutable (can be changed), while frozen sets are immutable (cannot be changed). This means that you can add, remove, or modify elements in a set, but you cannot do so in a frozen set. Frozen sets are hashable and can be used as keys in dictionaries, while sets are not hashable."
   ]
  },
  {
   "cell_type": "code",
   "execution_count": 73,
   "id": "f262b28e",
   "metadata": {},
   "outputs": [
    {
     "data": {
      "text/plain": [
       "{1, 2, 3, 4, 5}"
      ]
     },
     "execution_count": 73,
     "metadata": {},
     "output_type": "execute_result"
    }
   ],
   "source": [
    "#Q53. What is union() in sets? Explain via code.\n",
    "\n",
    "#The union() method in sets is used to create a new set that contains all the unique elements from two or more sets. It performs the union operation on the sets. Here's an example:\n",
    "\n",
    "set1 = {1, 2, 3}\n",
    "set2 = {3, 4, 5}\n",
    "union_set = set1.union(set2)\n",
    "union_set\n"
   ]
  },
  {
   "cell_type": "code",
   "execution_count": 75,
   "id": "8149d88f",
   "metadata": {},
   "outputs": [
    {
     "data": {
      "text/plain": [
       "{3}"
      ]
     },
     "execution_count": 75,
     "metadata": {},
     "output_type": "execute_result"
    }
   ],
   "source": [
    "# Q54. What is intersection() in sets? Explain via code.\n",
    "\n",
    "# The intersection() method in sets is used to create a new set that contains elements that are common to two or more sets. It performs the intersection operation on the sets. Here's an example:\n",
    "\n",
    "set1 = {1, 2, 3}\n",
    "set2 = {3, 4, 5}\n",
    "intersection_set = set1.intersection(set2)\n",
    "intersection_set"
   ]
  },
  {
   "cell_type": "code",
   "execution_count": null,
   "id": "c73b6f9e",
   "metadata": {},
   "outputs": [],
   "source": [
    "Q55. What is a dictionary in Python?\n",
    "\n",
    "A dictionary in Python is an unordered collection of key-value pairs. Each key in a dictionary is unique and maps to a specific value. Dictionaries are defined using curly braces {} and consist of key-value pairs separated by colons (:).\n",
    "Q56. How is a dictionary different from all other data structures?\n",
    "\n",
    "Dictionaries are different from other data structures because they use keys to access values, making them highly efficient for data retrieval. Unlike lists or tuples, which use integer indices, dictionaries use custom keys for direct access to values. This key-value mapping allows for fast data retrieval and is useful for tasks like building lookup tables or representing data with named attributes."
   ]
  },
  {
   "cell_type": "code",
   "execution_count": 76,
   "id": "8831e537",
   "metadata": {},
   "outputs": [
    {
     "data": {
      "text/plain": [
       "{'key1': 'value1', 'key2': 'value2', 'key3': 'value3'}"
      ]
     },
     "execution_count": 76,
     "metadata": {},
     "output_type": "execute_result"
    }
   ],
   "source": [
    "# Q57. How can we declare a dictionary in Python?\n",
    "\n",
    "# You can declare a dictionary in Python by enclosing a comma-separated sequence of key-value pairs within curly braces {}. Each key-value pair is separated by a colon (:). For example\n",
    "\n",
    "my_dict = {'key1': 'value1', 'key2': 'value2', 'key3': 'value3'}\n",
    "my_dict"
   ]
  },
  {
   "cell_type": "code",
   "execution_count": 77,
   "id": "af1c3d1b",
   "metadata": {},
   "outputs": [
    {
     "name": "stdout",
     "output_type": "stream",
     "text": [
      "<class 'dict'>\n"
     ]
    }
   ],
   "source": [
    "# Q58. What will the output of the following?\n",
    "var = {}\n",
    "print(type(var))"
   ]
  },
  {
   "cell_type": "code",
   "execution_count": 79,
   "id": "9e7ac4a5",
   "metadata": {},
   "outputs": [
    {
     "data": {
      "text/plain": [
       "{'name': 'Alice', 'age': 30, 'city': 'New York'}"
      ]
     },
     "execution_count": 79,
     "metadata": {},
     "output_type": "execute_result"
    }
   ],
   "source": [
    "# Q59. How can we add an element in a dictionary?\n",
    "\n",
    "# To add an element (key-value pair) to a dictionary in Python, you can use the assignment operator (=). Simply specify a new key and assign it a value. If the key already exists in the dictionary, its value will be updated; otherwise, a new key-value pair will be added.\n",
    "\n",
    "my_dict = {'name': 'Alice', 'age': 30}\n",
    "my_dict['city'] = 'New York'  # Adding a new key-value pair\n",
    "my_dict"
   ]
  },
  {
   "cell_type": "code",
   "execution_count": 80,
   "id": "95f8aa3a",
   "metadata": {},
   "outputs": [
    {
     "name": "stdout",
     "output_type": "stream",
     "text": [
      "dict_values(['Alice', 30, 'New York'])\n"
     ]
    }
   ],
   "source": [
    "# Q60. Create a dictionary and access all the values in that dictionary.\n",
    "\n",
    "# You can access all the values in a dictionary using the values() method. Here's an example:\n",
    "\n",
    "my_dict = {'name': 'Alice', 'age': 30, 'city': 'New York'}\n",
    "all_values = my_dict.values()  \n",
    "print(all_values)\n",
    "\n"
   ]
  },
  {
   "cell_type": "code",
   "execution_count": 81,
   "id": "c3b91e37",
   "metadata": {},
   "outputs": [],
   "source": [
    "# Q61. Create a nested dictionary and access all the elements in the inner dictionary.\n",
    "\n",
    "# To access elements in the inner dictionary of a nested dictionary, you can use multiple key lookups. Here's an example:\n",
    "\n",
    "my_nested_dict = {'outer': {'inner_key1': 'value1', 'inner_key2': 'value2'}}\n",
    "inner_dict = my_nested_dict['outer']\n",
    "value1 = inner_dict['inner_key1']\n",
    "value2 = inner_dict['inner_key2']\n"
   ]
  },
  {
   "cell_type": "code",
   "execution_count": null,
   "id": "a5e897f1",
   "metadata": {},
   "outputs": [],
   "source": [
    "Q62. What is the use of the get() function?\n",
    "\n",
    "The get() function in dictionaries is used to retrieve the value associated with a given key. It allows you to specify a default value to return if the key does not exist in the dictionary, preventing a KeyError.\n",
    "Q63. What is the use of the items() function?\n",
    "\n",
    "The items() function in dictionaries is used to retrieve a view of all key-value pairs in the dictionary as tuples. It provides a convenient way to iterate over both keys and values in a dictionary.\n",
    "Q64. What is the use of the pop() function?\n",
    "\n",
    "The pop() function in dictionaries is used to remove a key-value pair from the dictionary based on the provided key. It returns the value associated with the key and removes the key from the dictionary. If the key is not found, you can specify a default value to return.\n",
    "Q65. What is the use of the popitem() function?\n",
    "\n",
    "The popitem() function in dictionaries is used to remove and return an arbitrary (key, value) pair from the dictionary. This function is useful when you want to remove and process items from a dictionary in an unordered manner.\n",
    "Q66. What is the use of the keys() function?\n",
    "\n",
    "The keys() function in dictionaries is used to retrieve a view of all the keys in the dictionary. It provides a way to iterate over the keys or check if a specific key exists in the dictionary.\n",
    "Q67. What is the use of the values() function?\n",
    "\n",
    "The values() function in dictionaries is used to retrieve a view of all the values in the dictionary. It provides a way to iterate over the values or check if a specific value exists in the dictionary.\n",
    "Q68. What are loops in Python?\n",
    "\n",
    "Loops in Python are control structures used for repetitive execution of a block of code. They allow you to iterate over sequences (like lists or strings) or perform tasks a specific number of times. Python provides two main types of loops: for loops and while loops.\n",
    "Q69. How many types of loops are there in Python?\n",
    "\n",
    "Python supports two main types of loops:\n",
    "for loop: Used for iterating over a sequence (e.g., lists, tuples, strings) or other iterable objects.\n",
    "while loop: Used for repeatedly executing a block of code as long as a given condition is true.\n",
    "Q70. What is the difference between for and while loops?\n",
    "\n",
    "The main difference between for and while loops is in how they control the flow of execution:\n",
    "for loop: Iterates over a sequence (or other iterable) and executes a block of code for each element in the sequence. It's typically used when you know the number of iterations in advance.\n",
    "while loop: Repeatedly executes a block of code as long as a specified condition is true. It's used when you don't know the number of iterations in advance or when you want to continue until a certain condition is met.\n",
    "Q71. What is the use of the continue statement?\n",
    "\n",
    "The continue statement is used within loops (both for and while) to skip the remaining code inside the current iteration and proceed to the"
   ]
  },
  {
   "cell_type": "code",
   "execution_count": 87,
   "id": "039e1fd3",
   "metadata": {},
   "outputs": [
    {
     "name": "stdout",
     "output_type": "stream",
     "text": [
      "Enter a number: 5\n",
      "Factorial of 5 is 120\n"
     ]
    }
   ],
   "source": [
    "# Q76. Write a Python program to find the factorial of a given number.\n",
    "\n",
    "num = int(input(\"Enter a number: \"))\n",
    "factorial = 1\n",
    "if num < 0:\n",
    "    print(\"Factorial is not defined for negative numbers.\")\n",
    "elif num == 0:\n",
    "    print(\"Factorial of 0 is 1.\")\n",
    "else:\n",
    "    for i in range(1, num + 1):\n",
    "        factorial *= i\n",
    "    print(f\"Factorial of {num} is {factorial}\")"
   ]
  },
  {
   "cell_type": "code",
   "execution_count": 88,
   "id": "a74af33d",
   "metadata": {},
   "outputs": [
    {
     "name": "stdout",
     "output_type": "stream",
     "text": [
      "Enter the principal amount: 100\n",
      "Enter the rate of interest (in percentage): 4\n",
      "Enter the time period (in years): 3\n",
      "Simple Interest: 12.0\n"
     ]
    }
   ],
   "source": [
    "#Q77. Write a Python program to calculate the simple interest. Formula to calculate simple interest is SI = (PRT)/100\n",
    "p = float(input(\"Enter the principal amount: \"))\n",
    "r = float(input(\"Enter the rate of interest (in percentage): \"))\n",
    "t = float(input(\"Enter the time period (in years): \"))\n",
    "\n",
    "simple_interest = (p * r * t) / 100\n",
    "\n",
    "print(f\"Simple Interest: {simple_interest}\")\n"
   ]
  },
  {
   "cell_type": "code",
   "execution_count": 91,
   "id": "d48bc39e",
   "metadata": {},
   "outputs": [
    {
     "name": "stdout",
     "output_type": "stream",
     "text": [
      "Enter the principal amount: 100\n",
      "Enter the rate of interest (in percentage): 4\n",
      "Enter the time period (in years): 3\n",
      "compund interest : 12.486400000000003\n"
     ]
    }
   ],
   "source": [
    "# Q78. Write a Python program to calculate the compound interest. Formula of compound interest is A = P(1+ R/100)^t.\n",
    "p = float(input(\"Enter the principal amount: \"))\n",
    "r = float(input(\"Enter the rate of interest (in percentage): \"))\n",
    "t = float(input(\"Enter the time period (in years): \"))\n",
    "compound_interest = p * (1 + r/100)**t - p\n",
    "print(f\"compund interest : {compound_interest}\")"
   ]
  },
  {
   "cell_type": "code",
   "execution_count": 100,
   "id": "dd99ede9",
   "metadata": {},
   "outputs": [
    {
     "name": "stdout",
     "output_type": "stream",
     "text": [
      "input a number: 3\n",
      "3 is a prime number\n"
     ]
    }
   ],
   "source": [
    "# Q79. Write a Python program to check if a number is prime or not.\n",
    "\n",
    "num = int(input(\"input a number: \"))\n",
    "flag = False\n",
    "\n",
    "if num == 1:\n",
    "    print(num, \"is not a prime number\")\n",
    "elif num > 1:\n",
    "    for i in range(2, num):\n",
    "        if (num % i) == 0:\n",
    "            flag = True\n",
    "            break\n",
    "    if flag == True:\n",
    "        print(num, \"is not a prime number\")\n",
    "    else:\n",
    "        print(num, \"is a prime number\")"
   ]
  },
  {
   "cell_type": "code",
   "execution_count": 104,
   "id": "53d3ede1",
   "metadata": {},
   "outputs": [
    {
     "name": "stdout",
     "output_type": "stream",
     "text": [
      "Enter a number: 153\n",
      "153 is an Armstrong number.\n"
     ]
    }
   ],
   "source": [
    "#Q80. Write a Python program to check Armstrong Number.\n",
    "\n",
    "def is_armstrong_number(num):\n",
    "    num_str = str(num)\n",
    "    num_digits = len(num_str)\n",
    "    armstrong_sum = 0\n",
    "    for digit_char in num_str:\n",
    "        digit = int(digit_char)\n",
    "        armstrong_sum += digit ** num_digits\n",
    "    if armstrong_sum == num:\n",
    "        return True\n",
    "    else:\n",
    "        return False\n",
    "num = int(input(\"Enter a number: \"))\n",
    "if is_armstrong_number(num):\n",
    "    print(num, \"is an Armstrong number.\")\n",
    "else:\n",
    "    print(num, \"is not an Armstrong number.\")\n"
   ]
  },
  {
   "cell_type": "code",
   "execution_count": 106,
   "id": "d42d1e04",
   "metadata": {},
   "outputs": [
    {
     "name": "stdout",
     "output_type": "stream",
     "text": [
      "Enter the value of n: 5\n",
      "The 5-th Fibonacci number is: 5\n"
     ]
    }
   ],
   "source": [
    "#Q81. Write a Python program to find the n-th Fibonacci Number.\n",
    "\n",
    "def fibonacci_iterative(n):\n",
    "    if n <= 0:\n",
    "        return 0\n",
    "    elif n == 1:\n",
    "        return 1\n",
    "    else:\n",
    "        a, b = 0, 1\n",
    "        for _ in range(2, n + 1):\n",
    "            a, b = b, a + b\n",
    "        return b\n",
    "n = int(input(\"Enter the value of n: \"))\n",
    "if n < 0:\n",
    "    print(\"Invalid input. Please enter a non-negative integer.\")\n",
    "else:\n",
    "    # Calculate and display the n-th Fibonacci number\n",
    "    result = fibonacci_iterative(n)\n",
    "    print(f\"The {n}-th Fibonacci number is: {result}\")\n"
   ]
  },
  {
   "cell_type": "code",
   "execution_count": 117,
   "id": "6b7f161c",
   "metadata": {},
   "outputs": [
    {
     "data": {
      "text/plain": [
       "[6, 2, 3, 4, 5, 1]"
      ]
     },
     "execution_count": 117,
     "metadata": {},
     "output_type": "execute_result"
    }
   ],
   "source": [
    "#Q82. Write a Python program to interchange the first and last element in a list.\n",
    "\n",
    "l = [1,2,3,4,5,6]\n",
    "\n",
    "l[0],l[-1] = l[-1],l[0]\n",
    "l"
   ]
  },
  {
   "cell_type": "code",
   "execution_count": 118,
   "id": "4867919e",
   "metadata": {},
   "outputs": [
    {
     "name": "stdout",
     "output_type": "stream",
     "text": [
      "Enter the index of the first element to swap: 3\n",
      "Enter the index of the second element to swap: 8\n",
      "Modified list after swapping: [2, 3, 4, 10, 6, 7, 8, 9, 5]\n"
     ]
    }
   ],
   "source": [
    "#Q83. Write a Python program to swap two elements in a list.\n",
    "\n",
    "l = [2,3,4,5,6,7,8,9,10]\n",
    "index1 = int(input(\"Enter the index of the first element to swap: \"))\n",
    "index2 = int(input(\"Enter the index of the second element to swap: \"))\n",
    "\n",
    "# Check if the indices are valid\n",
    "if 0 <= index1 < len(l) and 0 <= index2 < len(l):\n",
    "    # Swap the elements using list slicing\n",
    "    l[index1], l[index2] = l[index2], l[index1]\n",
    "    print(\"Modified list after swapping:\", l)\n",
    "else:\n",
    "    print(\"Invalid indices. Make sure indices are within the range of the list.\")\n"
   ]
  },
  {
   "cell_type": "code",
   "execution_count": 126,
   "id": "bb1386b9",
   "metadata": {},
   "outputs": [
    {
     "name": "stdout",
     "output_type": "stream",
     "text": [
      "Largest number is 99\n"
     ]
    }
   ],
   "source": [
    "#Q84. Write a Python program to find N largest element from a list.\n",
    "import numpy as np\n",
    "length = 20\n",
    "l = np.random.randint(1, 100, size=length)\n",
    "l.sort()\n",
    "print(\"Largest number is\", l[-1])\n",
    "\n"
   ]
  },
  {
   "cell_type": "code",
   "execution_count": 133,
   "id": "e628563d",
   "metadata": {},
   "outputs": [
    {
     "name": "stdout",
     "output_type": "stream",
     "text": [
      "sum of all numbers:  858\n"
     ]
    }
   ],
   "source": [
    "#Q85. Write a Python program to find cumulative sum of a list.\n",
    "import numpy as np\n",
    "length = 20\n",
    "l = np.random.randint(1, 100, size=length) #creating a random list here\n",
    "s = 0\n",
    "for i in l:\n",
    "    s = s+i\n",
    "print(\"sum of all numbers: \", s)"
   ]
  },
  {
   "cell_type": "code",
   "execution_count": 140,
   "id": "3dc74b27",
   "metadata": {},
   "outputs": [
    {
     "name": "stdout",
     "output_type": "stream",
     "text": [
      "gievn string madam is a palindrome\n"
     ]
    }
   ],
   "source": [
    "#Q86. Write a Python program to check if a string is palindrome or not.\n",
    "\n",
    "s = \"madam\"\n",
    "if s == s[::-1]:\n",
    "    print(f\"gievn string {s} is a palindrome\")\n",
    "else:\n",
    "    print(f\"gievn string {s} is not a palindrome\")"
   ]
  },
  {
   "cell_type": "code",
   "execution_count": 144,
   "id": "2c49a4e5",
   "metadata": {},
   "outputs": [
    {
     "name": "stdout",
     "output_type": "stream",
     "text": [
      "Enter a string: ineuron\n",
      "Enter the index of the element to remove: 0\n",
      "String after removing element at index 0 : neuron\n"
     ]
    }
   ],
   "source": [
    "# Q87. Write a Python program to remove i'th element from a string.\n",
    "s = input(\"Enter a string: \")\n",
    "i = int(input(\"Enter the index of the element to remove: \"))\n",
    "if 0 <= i < len(s):\n",
    "    new_s = s[:i] + s[i+1:]\n",
    "    print(\"String after removing element at index\", i, \":\", new_s)\n",
    "else:\n",
    "    print(\"Invalid index. Make sure the index is within the range of the string.\")\n"
   ]
  },
  {
   "cell_type": "code",
   "execution_count": 145,
   "id": "1bdbb243",
   "metadata": {},
   "outputs": [
    {
     "name": "stdout",
     "output_type": "stream",
     "text": [
      "Present\n"
     ]
    }
   ],
   "source": [
    "#Q88. Write a Python program to check if a substring is present in a given string.\n",
    "\n",
    "s = \"AnkurSrivastava\"\n",
    "substring = \"Ankur\"\n",
    "\n",
    "if substring in s:\n",
    "    print(\"Present\")\n",
    "else:\n",
    "    print(\"Not Present\")"
   ]
  },
  {
   "cell_type": "code",
   "execution_count": 155,
   "id": "7c1d3137",
   "metadata": {},
   "outputs": [
    {
     "data": {
      "text/plain": [
       "['learning', 'Data', 'from', 'ineuron']"
      ]
     },
     "execution_count": 155,
     "metadata": {},
     "output_type": "execute_result"
    }
   ],
   "source": [
    "# Q89. Write a Python program to find words which are greater than given length k.\n",
    "s = \"I am learning Big Data from ineuron\"\n",
    "l = s.split()\n",
    "k = 3\n",
    "l1 = []\n",
    "for i in l:\n",
    "    if len(i)>k:\n",
    "        l1.append(i)\n",
    "l1"
   ]
  },
  {
   "cell_type": "code",
   "execution_count": 158,
   "id": "dc6ab396",
   "metadata": {},
   "outputs": [
    {
     "name": "stdout",
     "output_type": "stream",
     "text": [
      "unique values in dictionary are:  {1, 2, 3}\n"
     ]
    }
   ],
   "source": [
    "# Q90. Write a Python program to extract unique dictionary values.\n",
    "d = {\"a\":1, \"b\":2, \"c\":1, \"d\":3, \"e\": 2}\n",
    "x = set(d.values())\n",
    "print(\"unique values in dictionary are: \", x)"
   ]
  },
  {
   "cell_type": "code",
   "execution_count": 170,
   "id": "ee472d93",
   "metadata": {},
   "outputs": [
    {
     "data": {
      "text/plain": [
       "{'a': 1, 'b': 2, 'c': 1, 'd': 3, 'e': 2}"
      ]
     },
     "execution_count": 170,
     "metadata": {},
     "output_type": "execute_result"
    }
   ],
   "source": [
    "# Q91. Write a Python program to merge two dictionary.\n",
    "d1 = {\"a\":1, \"b\":2, \"c\":1}\n",
    "d2 = {\"d\":3, \"e\": 2}\n",
    "# d = d1.update(d2)\n",
    "d = {**d1, **d2}\n",
    "d"
   ]
  },
  {
   "cell_type": "code",
   "execution_count": 173,
   "id": "cca79711",
   "metadata": {},
   "outputs": [
    {
     "data": {
      "text/plain": [
       "{'Sachin': 10, 'MSD': 7, 'Kohli': 18, 'Rohit': 45}"
      ]
     },
     "execution_count": 173,
     "metadata": {},
     "output_type": "execute_result"
    }
   ],
   "source": [
    "#Q92. Write a Python program to convert a list of tuples into dictionary.\n",
    "\n",
    "Input = [('Sachin', 10), ('MSD', 7), ('Kohli', 18), ('Rohit', 45)]\n",
    "#Output : {'Sachin': 10, 'MSD': 7, 'Kohli': 18, 'Rohit': 45}\n",
    "d = {}\n",
    "for i in Input:\n",
    "    key, value = i\n",
    "    d[key] = value\n",
    "d\n",
    "\n"
   ]
  },
  {
   "cell_type": "code",
   "execution_count": 175,
   "id": "62249b79",
   "metadata": {},
   "outputs": [
    {
     "name": "stdout",
     "output_type": "stream",
     "text": [
      "[(9, 729), (5, 125), (6, 216)]\n"
     ]
    }
   ],
   "source": [
    "# Q93. Write a Python program to create a list of tuples from given list having number and its cube in each tuple.\n",
    "Input = [9, 5, 6]\n",
    "#Output: [(9, 729), (5, 125), (6, 216)]\n",
    "Output = []\n",
    "for i in Input:\n",
    "    cube = i**3\n",
    "    tuple_item = (i,cube)\n",
    "    Output.append(tuple_item)\n",
    "print(Output)"
   ]
  },
  {
   "cell_type": "code",
   "execution_count": 184,
   "id": "f5610817",
   "metadata": {},
   "outputs": [
    {
     "data": {
      "text/plain": [
       "[(7, 7), (7, 8), (2, 7), (2, 8), (7, 7), (7, 2), (8, 7), (8, 2)]"
      ]
     },
     "execution_count": 184,
     "metadata": {},
     "output_type": "execute_result"
    }
   ],
   "source": [
    "# Q94. Write a Python program to get all combinations of 2 tuples.\n",
    "# Input : \n",
    "\n",
    "test_tuple1 = (7, 2)\n",
    "test_tuple2 = (7, 8)\n",
    "Output = []\n",
    "#Output : [(7, 7), (7, 8), (2, 7), (2, 8), (7, 7), (7, 2), (8, 7), (8, 2)]\n",
    "\n",
    "for i in test_tuple1:\n",
    "    for j in test_tuple2:\n",
    "        Output.append((i,j))\n",
    "for j in test_tuple2:\n",
    "    for i in test_tuple1:\n",
    "        Output.append((j, i))\n",
    "Output\n",
    "        \n",
    "\n",
    "\n",
    "\n"
   ]
  },
  {
   "cell_type": "code",
   "execution_count": 185,
   "id": "9e8f8003",
   "metadata": {},
   "outputs": [
    {
     "name": "stdout",
     "output_type": "stream",
     "text": [
      "Sorted list by second item: [('Geeks', 8), ('for', 24), ('Geeks', 30)]\n"
     ]
    }
   ],
   "source": [
    "# Q95. Write a Python program to sort a list of tuples by second item.\n",
    "input_list  = [('for', 24), ('Geeks', 8), ('Geeks', 30)] \n",
    "# Output : [('Geeks', 8), ('for', 24), ('Geeks', 30)]\n",
    "sorted_list = sorted(input_list, key=lambda x: x[1])\n",
    "print(\"Sorted list by second item:\", sorted_list)\n",
    "    \n",
    "    "
   ]
  },
  {
   "cell_type": "code",
   "execution_count": 186,
   "id": "bfa854cb",
   "metadata": {},
   "outputs": [
    {
     "name": "stdout",
     "output_type": "stream",
     "text": [
      "Enter the number of rows: 5\n",
      "* \n",
      "* * \n",
      "* * * \n",
      "* * * * \n",
      "* * * * * \n"
     ]
    }
   ],
   "source": [
    "#Q96 - Pattern\n",
    "# Input the number of rows for the pattern\n",
    "num_rows = int(input(\"Enter the number of rows: \"))\n",
    "for i in range(1, num_rows + 1):\n",
    "    for j in range(i):\n",
    "        print(\"*\", end=\" \")\n",
    "    print()\n"
   ]
  },
  {
   "cell_type": "code",
   "execution_count": 188,
   "id": "888d460f",
   "metadata": {},
   "outputs": [
    {
     "name": "stdout",
     "output_type": "stream",
     "text": [
      "Enter the number of rows: 5\n",
      "    *\n",
      "   **\n",
      "  ***\n",
      " ****\n",
      "*****\n"
     ]
    }
   ],
   "source": [
    "#Q97- Pattern\n",
    "# Input the number of rows for the pattern\n",
    "num_rows = int(input(\"Enter the number of rows: \"))\n",
    "for i in range(1, num_rows + 1):\n",
    "    for j in range(num_rows - i):\n",
    "        print(\" \", end=\"\")\n",
    "    for k in range(i):\n",
    "        print(\"*\", end=\"\")\n",
    "    print()\n"
   ]
  },
  {
   "cell_type": "code",
   "execution_count": 190,
   "id": "c281148a",
   "metadata": {},
   "outputs": [
    {
     "name": "stdout",
     "output_type": "stream",
     "text": [
      "Enter the number of rows: 5\n",
      "    * \n",
      "   * * \n",
      "  * * * \n",
      " * * * * \n",
      "* * * * * \n"
     ]
    }
   ],
   "source": [
    "#Q98- Pattern\n",
    "# Input the number of rows for the pattern\n",
    "num_rows = int(input(\"Enter the number of rows: \"))\n",
    "for i in range(1, num_rows + 1):\n",
    "    for j in range(num_rows - i):\n",
    "        print(\" \", end=\"\")\n",
    "    for k in range(i):\n",
    "        print(\"* \", end=\"\")\n",
    "    print()\n"
   ]
  },
  {
   "cell_type": "code",
   "execution_count": 191,
   "id": "c42cba0e",
   "metadata": {},
   "outputs": [
    {
     "name": "stdout",
     "output_type": "stream",
     "text": [
      "Enter the number of rows: 5\n",
      "1 \n",
      "1 2 \n",
      "1 2 3 \n",
      "1 2 3 4 \n",
      "1 2 3 4 5 \n"
     ]
    }
   ],
   "source": [
    "# Q99- Pattern\n",
    "num_rows = int(input(\"Enter the number of rows: \"))\n",
    "for i in range(1, num_rows + 1):\n",
    "    for j in range(1, i + 1):\n",
    "        print(j, end=\" \")\n",
    "    print()\n"
   ]
  },
  {
   "cell_type": "code",
   "execution_count": 192,
   "id": "f1fe526a",
   "metadata": {},
   "outputs": [
    {
     "name": "stdout",
     "output_type": "stream",
     "text": [
      "A \n",
      "B B \n",
      "C C C \n",
      "D D D D \n",
      "E E E E E \n"
     ]
    }
   ],
   "source": [
    "# Q100- Pattern\n",
    "num_rows = 5\n",
    "start_char = ord('A')\n",
    "for i in range(1, num_rows + 1):\n",
    "    for j in range(1, i + 1):\n",
    "        print(chr(start_char), end=\" \")\n",
    "    start_char += 1\n",
    "    print()\n"
   ]
  }
 ],
 "metadata": {
  "kernelspec": {
   "display_name": "Python 3 (ipykernel)",
   "language": "python",
   "name": "python3"
  },
  "language_info": {
   "codemirror_mode": {
    "name": "ipython",
    "version": 3
   },
   "file_extension": ".py",
   "mimetype": "text/x-python",
   "name": "python",
   "nbconvert_exporter": "python",
   "pygments_lexer": "ipython3",
   "version": "3.8.16"
  }
 },
 "nbformat": 4,
 "nbformat_minor": 5
}
